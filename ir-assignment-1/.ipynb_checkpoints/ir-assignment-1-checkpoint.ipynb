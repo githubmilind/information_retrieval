{
 "cells": [
  {
   "cell_type": "markdown",
   "id": "f6ca5297",
   "metadata": {},
   "source": [
    "Assignment 1 - NLTK"
   ]
  },
  {
   "cell_type": "markdown",
   "id": "dd179ff3",
   "metadata": {},
   "source": [
    "<b>Install Python and NLTK"
   ]
  },
  {
   "cell_type": "code",
   "execution_count": 1,
   "id": "a232b88b",
   "metadata": {},
   "outputs": [],
   "source": [
    "import nltk\n",
    "from nltk.corpus import stopwords\n",
    "from nltk.tokenize import sent_tokenize\n",
    "from nltk import word_tokenize, pos_tag\n",
    "from nltk.stem import PorterStemmer\n",
    "import string\n",
    "import numpy as np"
   ]
  },
  {
   "cell_type": "code",
   "execution_count": 86,
   "id": "49c105d1",
   "metadata": {},
   "outputs": [],
   "source": [
    "import math"
   ]
  },
  {
   "cell_type": "code",
   "execution_count": 2,
   "id": "eb9d4bdb",
   "metadata": {},
   "outputs": [],
   "source": [
    "import pandas as pd"
   ]
  },
  {
   "cell_type": "code",
   "execution_count": 3,
   "id": "398d139d",
   "metadata": {},
   "outputs": [],
   "source": [
    "porter_stemmer = PorterStemmer()"
   ]
  },
  {
   "cell_type": "code",
   "execution_count": 4,
   "id": "f78ac717",
   "metadata": {},
   "outputs": [],
   "source": [
    "stop_words = set(stopwords.words('english'))"
   ]
  },
  {
   "cell_type": "code",
   "execution_count": 5,
   "id": "5e2da1f3",
   "metadata": {},
   "outputs": [],
   "source": [
    "## compute_term_frequency\n",
    "## input: document content\n",
    "## processing: \n",
    "## 1. tokenize the document in sentences\n",
    "## 2. tokenize sentences in words\n",
    "## 3. Remove stop words\n",
    "## 4. Word stemming\n",
    "## 5. Add to word frequency collection\n",
    "## 6. Count the words in the document\n",
    "##\n",
    "## return: word count, word frequency collection\n",
    "##\n",
    "def compute_term_frequency(in_doc_contents):\n",
    "    \n",
    "    # split the text in SENTENCES\n",
    "    sentences = nltk.sent_tokenize(in_doc_contents)\n",
    "    \n",
    "    word_frequency = {}\n",
    "\n",
    "    word_count = 0\n",
    "    \n",
    "    for sentence in sentences:\n",
    "    \n",
    "        # tokensize the sentence in to array of words\n",
    "        tokenized_text = nltk.word_tokenize(sentence)\n",
    "    \n",
    "        # increment WORD COUNT\n",
    "        word_count += len(tokenized_text)\n",
    "    \n",
    "        # Remove the STOP WORDS and PUNCTUATIONS\n",
    "        tokenized_text_no_stop_words = [word for word in tokenized_text \n",
    "                                    if not ((word in stopwords.words()) or (word in string.punctuation))]\n",
    "    \n",
    "        # calculate term/word count\n",
    "        for word in tokenized_text_no_stop_words:            \n",
    "            # word STEMMING\n",
    "            word_stemmed = porter_stemmer.stem(word.lower())\n",
    "        \n",
    "            if word_stemmed in word_frequency:\n",
    "                word_frequency[word_stemmed] += 1\n",
    "            else:\n",
    "                word_frequency[word_stemmed] = 1\n",
    "    \n",
    "    return word_count, dict(sorted(word_frequency.items(), key=lambda item: item[1], reverse=True))"
   ]
  },
  {
   "cell_type": "markdown",
   "id": "88141fad",
   "metadata": {},
   "source": [
    "**Process the document Files: 100554newsML.txt**"
   ]
  },
  {
   "cell_type": "code",
   "execution_count": 6,
   "id": "0549168a",
   "metadata": {},
   "outputs": [
    {
     "name": "stdout",
     "output_type": "stream",
     "text": [
      "Document: 100554newsML.txt, contains total terms: 760\n",
      "{'compani': 12, 'eurotunnel': 10, '``': 9, \"''\": 9, 'said': 9, 'pound': 8, 'deal': 7, 'bank': 7, 'interest': 7, 'sharehold': 7, 'would': 7, 'debt': 6, 'year': 6, 'billion': 5, 'the': 4, 'morton': 4, \"'s\": 4, 'oper': 3, 'announc': 3, 'percent': 3, 'could': 3, 'still': 3, 'pay': 3, 'report': 3, 'earli': 3, 'million': 3, 'if': 3, 'issu': 3, 'note': 3, 'penc': 3, 'tunnel': 2, 'monday': 2, 'detail': 2, 'creditor': 2, 'nearli': 2, 'nine': 2, 'futur': 2, 'pari': 2, 'current': 2, 'invest': 2, 'payment': 2, 'cash': 2, 'co-chairman': 2, 'told': 2, 'news': 2, 'confer': 2, 'plan': 2, 'financi': 2, 'ad': 2, 'reduc': 2, 'perform': 2, 'dividend': 2, 'swap': 2, 'abl': 2, 'bill': 2, '400': 2, 'stabilis': 2, 'analyst': 2, 'consider': 2, 'agre': 2, 'approv': 2, 'franc': 2, 'share': 2, 'i': 2, \"'m\": 2, 'nobodi': 2, 'want': 2, 'channel': 1, 'give': 1, '45.5': 1, 'return': 1, 'wipe': 1, '1.0': 1, '1.6': 1, 'massiv': 1, 'long-await': 1, 'highli': 1, 'complex': 1, 'restructur': 1, 'unpaid': 1, 'throw': 1, 'lifelin': 1, 'secur': 1, 'like': 1, 'difficult': 1, 'simultan': 1, 'london': 1, 'bring': 1, 'back': 1, 'brink': 1, 'bankruptci': 1, 'leav': 1, 'alreadi': 1, 'seen': 1, 'dwindl': 1, 'own': 1, '54.5': 1, 'we': 1, 'fix': 1, 'cap': 1, 'arrang': 1, 'avail': 1, 'alastair': 1, 'avoid': 1, 'game': 1, 'provid': 1, 'anglo-french': 1, 'medium': 1, 'term': 1, 'stabil': 1, 'consolid': 1, 'commerci': 1, 'posit': 1, 'develop': 1, 'firm': 1, 'make': 1, 'profit': 1, 'although': 1, 'see': 1, 'hold': 1, 'dilut': 1, 'offer': 1, 'prospect': 1, 'brighter': 1, 'urg': 1, 'patient': 1, 'month': 1, 'uncertainti': 1, 'wrestl': 1, 'crippl': 1, 'negoti': 1, 'construct': 1, 'taken': 1, 'around': 1, 'half': 1, 'market': 1, 'busiest': 1, 'cross-channel': 1, 'rout': 1, 'european': 1, 'ferri': 1, 'strong': 1, 'allow': 1, 'first': 1, 'within': 1, 'next': 1, '10': 1, 'french': 1, 'patrick': 1, 'ponsol': 1, '2004': 1, 'well': 1, 'ingeni': 1, 'formula': 1, 'help': 1, 'get': 1, 'despit': 1, 'equiti': 1, 'bond': 1, 'afford': 1, 'annual': 1, 'revenu': 1, 'cost': 1, 'depreci': 1, 'less': 1, 'maximum': 1, '1.85': 1, 'constitut': 1, 'ten': 1, 'abil': 1, 'financ': 1, 'becom': 1, 'sustain': 1, 'least': 1, 'look': 1, 'flow': 1, '150': 1, '200': 1, \"n't\": 1, 'find': 1, 'meet': 1, 'roll': 1, 'forward': 1, 'keep': 1, 'go': 1, 'seven': 1, 'eight': 1, 'major': 1, 'so': 1, 'time': 1, 'statement': 1, 'work': 1, 'done': 1, 'finalis': 1, 'submit': 1, 'group': 1, 'probabl': 1, 'spring': 1, '1997': 1, 'debt-for-equ': 1, '130': 1, '10.40': 1, '--': 1, 'level': 1, '160': 1, 'wide': 1, 'run': 1, '3.7': 1, 'convert': 1, 'new': 1, 'instrument': 1, 'exist': 1, 'particip': 1, 'choos': 1, 'free': 1, 'warrant': 1, 'entitl': 1, 'subscrib': 1, 'may': 1, '39': 1, 'decemb': 1, '2003': 1, 'suspend': 1, 'last': 1, 'week': 1, '113.5': 1, 'ahead': 1, 'resum': 1, 'trade': 1, 'tuesday': 1, '225': 1, 'hope': 1, 'take': 1, 'grant': 1, 'admit': 1, 'pretti': 1, 'angri': 1, 'ask': 1, 'happen': 1, 'reject': 1, 'collaps': 1, 'doomsday': 1, 'scenario': 1, '1=.6393': 1}\n"
     ]
    }
   ],
   "source": [
    "doc_1_file_name = '100554newsML.txt'\n",
    "\n",
    "with open(doc_1_file_name) as f:\n",
    "    doc_1_content = f.read()\n",
    "    \n",
    "doc_1_len, doc_1_term_frequency = compute_term_frequency(doc_1_content)\n",
    "\n",
    "print(\"Document: {}, contains total terms: {}\".format(doc_1_file_name, doc_1_len))\n",
    "print(doc_1_term_frequency)"
   ]
  },
  {
   "cell_type": "markdown",
   "id": "8e088ef4",
   "metadata": {},
   "source": [
    "**Process the document Files: 100593newsML.txt**"
   ]
  },
  {
   "cell_type": "code",
   "execution_count": 7,
   "id": "1fefe376",
   "metadata": {},
   "outputs": [
    {
     "name": "stdout",
     "output_type": "stream",
     "text": [
      "Document: 100593newsML.txt, contains total terms: 494\n",
      "{'eurotunnel': 11, 'billion': 10, 'compani': 9, 'said': 8, 'the': 6, 'sharehold': 6, 'announc': 5, 'bank': 5, \"'s\": 5, 'pound': 4, 'debt': 4, 'interest': 4, 'would': 4, 'oper': 3, 'monday': 3, 'deal': 3, 'percent': 3, 'restructur': 3, '``': 3, 'plan': 3, \"''\": 3, 'reduc': 3, 'share': 3, 'week': 3, 'penc': 3, 'tunnel': 2, '1.56': 2, 'bring': 2, 'month': 2, '225': 2, 'london': 2, 'financi': 2, 'allow': 2, 'co-chairman': 2, 'negoti': 2, 'around': 2, 'could': 2, 'consider': 2, 'last': 2, 'anglo-french': 1, 'channel': 1, 'give': 1, 'creditor': 1, '45.5': 1, 'return': 1, 'wipe': 1, 'long-await': 1, 'wrangl': 1, 'owe': 1, 'nearli': 1, 'nine': 1, '14.1': 1, 'simultan': 1, 'pari': 1, 'back': 1, 'brink': 1, 'insolv': 1, 'leav': 1, 'own': 1, '54.5': 1, 'provid': 1, 'medium-term': 1, 'stabil': 1, 'consolid': 1, 'substanti': 1, 'commerci': 1, 'achiev': 1, 'date': 1, 'develop': 1, 'alastair': 1, 'morton': 1, 'firm': 1, 'make': 1, 'profit': 1, 'ad': 1, 'although': 1, 'see': 1, 'dilut': 1, 'offer': 1, 'prospect': 1, 'brighter': 1, 'futur': 1, 'uncertainti': 1, 'wrestl': 1, 'crippl': 1, 'payment': 1, 'construct': 1, 'taken': 1, 'half': 1, 'cross-channel': 1, 'market': 1, 'european': 1, 'ferri': 1, 'strong': 1, 'perform': 1, 'pay': 1, 'first': 1, 'dividend': 1, 'within': 1, 'next': 1, '10': 1, 'year': 1, 'french': 1, 'patrick': 1, 'ponsol': 1, 'patient': 1, 'reap': 1, 'benefit': 1, 'success': 1, 'he': 1, 'call': 1, 'accept': 1, 'compromis': 1, 'holder': 1, 'still': 1, 'work': 1, 'done': 1, 'finalis': 1, 'agre': 1, 'detail': 1, 'submit': 1, 'full': 1, 'syndic': 1, 'approv': 1, 'probabl': 1, 'earli': 1, '1997': 1, 'follow': 1, 'two': 1, 'highli': 1, 'secret': 1, 'six': 1, 'lead': 1, 'thi': 1, 'extend': 1, '24': 1, 'instruct': 1, 'meet': 1, 'late': 1, 'debt-for-equ': 1, 'swap': 1, '130': 1, '10.40': 1, 'franc': 1, 'that': 1, 'level': 1, '160': 1, 'wide': 1, 'report': 1, 'outstand': 1, '8.7': 1, '13.6': 1, '1.0': 1, '3.7': 1, '5.8': 1, 'convert': 1, 'new': 1, 'instrument': 1, 'exist': 1, 'abl': 1, 'particip': 1, 'issu': 1, 'if': 1, 'choos': 1, 'free': 1, 'warrant': 1, 'entitl': 1, 'subscrib': 1, 'may': 1, '39': 1, 'decemb': 1, '2003': 1, 'suspend': 1, '113.5': 1, 'ahead': 1, 'resum': 1, 'trade': 1, 'tuesday': 1}\n"
     ]
    }
   ],
   "source": [
    "doc_2_file_name = '100593newsML.txt'\n",
    "\n",
    "with open(doc_2_file_name) as f:\n",
    "    doc_2_content = f.read()\n",
    "    \n",
    "doc_2_len, doc_2_term_frequency = compute_term_frequency(doc_2_content)\n",
    "\n",
    "print(\"Document: {}, contains total terms: {}\".format(doc_2_file_name, doc_2_len))\n",
    "print(doc_2_term_frequency)"
   ]
  },
  {
   "cell_type": "markdown",
   "id": "a7d4df79",
   "metadata": {},
   "source": [
    "**Process the document Files: 100618newsML.txt**"
   ]
  },
  {
   "cell_type": "code",
   "execution_count": 8,
   "id": "1a557d87",
   "metadata": {},
   "outputs": [
    {
     "name": "stdout",
     "output_type": "stream",
     "text": [
      "Document: 100618newsML.txt, contains total terms: 485\n",
      "{'eurotunnel': 11, 'compani': 9, 'said': 8, 'billion': 6, 'the': 6, 'sharehold': 6, 'bank': 5, 'pound': 5, \"'s\": 5, 'announc': 4, 'debt': 4, 'interest': 4, 'would': 4, 'oper': 3, 'monday': 3, 'deal': 3, 'percent': 3, 'restructur': 3, '``': 3, 'plan': 3, \"''\": 3, 'reduc': 3, 'share': 3, 'week': 3, 'penc': 3, 'tunnel': 2, 'bring': 2, 'month': 2, '225': 2, 'london': 2, 'financi': 2, 'allow': 2, 'co-chairman': 2, 'negoti': 2, 'around': 2, 'could': 2, 'consider': 2, 'last': 2, 'anglo-french': 1, 'channel': 1, 'give': 1, 'creditor': 1, '45.5': 1, 'return': 1, 'wipe': 1, '1.56': 1, 'mountain': 1, 'long-await': 1, 'wrangl': 1, 'owe': 1, 'nearli': 1, 'nine': 1, 'simultan': 1, 'pari': 1, 'back': 1, 'brink': 1, 'insolv': 1, 'leav': 1, 'own': 1, '54.5': 1, 'provid': 1, 'medium': 1, 'term': 1, 'stabil': 1, 'consolid': 1, 'substanti': 1, 'commerci': 1, 'achiev': 1, 'date': 1, 'develop': 1, 'alastair': 1, 'morton': 1, 'firm': 1, 'make': 1, 'profit': 1, 'ad': 1, 'although': 1, 'see': 1, 'dilut': 1, 'offer': 1, 'prospect': 1, 'brighter': 1, 'futur': 1, 'uncertainti': 1, 'wrestl': 1, 'crippl': 1, 'payment': 1, 'construct': 1, 'taken': 1, 'half': 1, 'cross-channel': 1, 'market': 1, 'european': 1, 'ferri': 1, 'strong': 1, 'perform': 1, 'pay': 1, 'first': 1, 'dividend': 1, 'within': 1, 'next': 1, '10': 1, 'year': 1, 'french': 1, 'patrick': 1, 'ponsol': 1, 'patient': 1, 'reap': 1, 'benefit': 1, 'success': 1, 'he': 1, 'call': 1, 'accept': 1, 'compromis': 1, 'holder': 1, 'statement': 1, 'still': 1, 'work': 1, 'done': 1, 'finalis': 1, 'agre': 1, 'detail': 1, 'submit': 1, 'full': 1, 'syndic': 1, 'approv': 1, 'probabl': 1, 'earli': 1, '1997': 1, 'follow': 1, 'two': 1, 'highli': 1, 'secret': 1, 'six': 1, 'lead': 1, 'thi': 1, 'extend': 1, '24': 1, 'instruct': 1, 'meet': 1, 'late': 1, 'debt-for-equ': 1, 'swap': 1, '130': 1, '10.40': 1, 'franc': 1, 'that': 1, 'level': 1, '160': 1, 'wide': 1, 'report': 1, 'run': 1, 'outstand': 1, '8.7': 1, '1.0': 1, '3.7': 1, 'convert': 1, 'new': 1, 'instrument': 1, 'exist': 1, 'abl': 1, 'particip': 1, 'issu': 1, 'if': 1, 'choos': 1, 'free': 1, 'warrant': 1, 'entitl': 1, 'subscrib': 1, 'may': 1, '39': 1, 'decemb': 1, '2003': 1, 'suspend': 1, '113.5': 1, 'ahead': 1, 'resum': 1, 'trade': 1, 'tuesday': 1, '1=.6393': 1}\n"
     ]
    }
   ],
   "source": [
    "doc_3_file_name = '100618newsML.txt'\n",
    "\n",
    "with open(doc_3_file_name) as f:\n",
    "    doc_3_content = f.read()\n",
    "    \n",
    "doc_3_len, doc_3_term_frequency = compute_term_frequency(doc_3_content)\n",
    "\n",
    "print(\"Document: {}, contains total terms: {}\".format(doc_3_file_name, doc_3_len))\n",
    "print(doc_3_term_frequency)"
   ]
  },
  {
   "cell_type": "code",
   "execution_count": 9,
   "id": "2a9d356d",
   "metadata": {},
   "outputs": [],
   "source": [
    "doc_1_pd = pd.DataFrame(doc_1_term_frequency.items(), columns=[\"word\", \"frequency\"])\n",
    "doc_2_pd = pd.DataFrame(doc_2_term_frequency.items(), columns=[\"word\", \"frequency\"])\n",
    "doc_3_pd = pd.DataFrame(doc_3_term_frequency.items(), columns=[\"word\", \"frequency\"])"
   ]
  },
  {
   "cell_type": "code",
   "execution_count": 10,
   "id": "f040c637",
   "metadata": {},
   "outputs": [],
   "source": [
    "## number of documents available for processing\n",
    "documents_count = 3"
   ]
  },
  {
   "cell_type": "code",
   "execution_count": 11,
   "id": "f349d0dc",
   "metadata": {},
   "outputs": [],
   "source": [
    "## compute_tf_idf\n",
    "## input: word count of document to be processed, \n",
    "##        Term frequency of document to be processed, Term frequency of other 2 documents\n",
    "## processing: \n",
    "##        Loop thru the term frequncey of document\n",
    "##        Compute tf = word frequncy / document word count\n",
    "##        check the existance of word in all document collection\n",
    "##        compute idf = log(Total number of documents / Number of documents with term t in it)\n",
    "##        print word, tf, idf\n",
    "def compute_tf_idf(document_len, in_doc_pd, doc_pd_2, doc_pd_3):    \n",
    "    # Term Frequency\n",
    "    # TF(t) = How many times word appeared in the document / Total number of words in the document    \n",
    "    in_doc_pd['tf'] = in_doc_pd['frequency'] / document_len\n",
    "    \n",
    "    in_doc_pd[['tf_normalized']] = in_doc_pd[['tf']].apply(lambda x: x / x.abs().max())\n",
    "    \n",
    "    for index, row in in_doc_pd.iterrows():\n",
    "        word = row['word']\n",
    "        \n",
    "        doc_frequency = 0\n",
    "        if in_doc_pd['word'].eq(word).any():\n",
    "            doc_frequency += 1\n",
    "        if doc_pd_2['word'].eq(word).any():\n",
    "            doc_frequency += 1\n",
    "        if doc_pd_3['word'].eq(word).any():\n",
    "            doc_frequency += 1\n",
    "        \n",
    "        # Inverse Document Frequency\n",
    "        # IDF(t) = log(Total number of documents / Number of documents with term t in it)\n",
    "\n",
    "        idf = 1 + np.log10(documents_count / doc_frequency)\n",
    "        in_doc_pd.loc[index, 'idf'] = idf\n",
    "                \n",
    "    in_doc_pd['tf*idf'] = in_doc_pd['tf_normalized'] * in_doc_pd['idf']\n",
    "    #print(in_doc_pd)"
   ]
  },
  {
   "cell_type": "markdown",
   "id": "37c42928",
   "metadata": {},
   "source": [
    "**Compute tf, idf, tf*idf: 100554newsML.txt**"
   ]
  },
  {
   "cell_type": "code",
   "execution_count": 12,
   "id": "148a8c9d",
   "metadata": {},
   "outputs": [],
   "source": [
    "compute_tf_idf(doc_1_len, doc_1_pd, doc_2_pd, doc_3_pd)"
   ]
  },
  {
   "cell_type": "code",
   "execution_count": 15,
   "id": "260cee31",
   "metadata": {},
   "outputs": [
    {
     "data": {
      "text/html": [
       "<div>\n",
       "<style scoped>\n",
       "    .dataframe tbody tr th:only-of-type {\n",
       "        vertical-align: middle;\n",
       "    }\n",
       "\n",
       "    .dataframe tbody tr th {\n",
       "        vertical-align: top;\n",
       "    }\n",
       "\n",
       "    .dataframe thead th {\n",
       "        text-align: right;\n",
       "    }\n",
       "</style>\n",
       "<table border=\"1\" class=\"dataframe\">\n",
       "  <thead>\n",
       "    <tr style=\"text-align: right;\">\n",
       "      <th></th>\n",
       "      <th>word</th>\n",
       "      <th>frequency</th>\n",
       "      <th>tf</th>\n",
       "      <th>tf_normalized</th>\n",
       "      <th>idf</th>\n",
       "      <th>tf*idf</th>\n",
       "    </tr>\n",
       "  </thead>\n",
       "  <tbody>\n",
       "    <tr>\n",
       "      <th>0</th>\n",
       "      <td>compani</td>\n",
       "      <td>12</td>\n",
       "      <td>0.015789</td>\n",
       "      <td>1.000000</td>\n",
       "      <td>1.000000</td>\n",
       "      <td>1.000000</td>\n",
       "    </tr>\n",
       "    <tr>\n",
       "      <th>1</th>\n",
       "      <td>eurotunnel</td>\n",
       "      <td>10</td>\n",
       "      <td>0.013158</td>\n",
       "      <td>0.833333</td>\n",
       "      <td>1.000000</td>\n",
       "      <td>0.833333</td>\n",
       "    </tr>\n",
       "    <tr>\n",
       "      <th>2</th>\n",
       "      <td>``</td>\n",
       "      <td>9</td>\n",
       "      <td>0.011842</td>\n",
       "      <td>0.750000</td>\n",
       "      <td>1.000000</td>\n",
       "      <td>0.750000</td>\n",
       "    </tr>\n",
       "    <tr>\n",
       "      <th>3</th>\n",
       "      <td>''</td>\n",
       "      <td>9</td>\n",
       "      <td>0.011842</td>\n",
       "      <td>0.750000</td>\n",
       "      <td>1.000000</td>\n",
       "      <td>0.750000</td>\n",
       "    </tr>\n",
       "    <tr>\n",
       "      <th>4</th>\n",
       "      <td>said</td>\n",
       "      <td>9</td>\n",
       "      <td>0.011842</td>\n",
       "      <td>0.750000</td>\n",
       "      <td>1.000000</td>\n",
       "      <td>0.750000</td>\n",
       "    </tr>\n",
       "    <tr>\n",
       "      <th>...</th>\n",
       "      <td>...</td>\n",
       "      <td>...</td>\n",
       "      <td>...</td>\n",
       "      <td>...</td>\n",
       "      <td>...</td>\n",
       "      <td>...</td>\n",
       "    </tr>\n",
       "    <tr>\n",
       "      <th>239</th>\n",
       "      <td>reject</td>\n",
       "      <td>1</td>\n",
       "      <td>0.001316</td>\n",
       "      <td>0.083333</td>\n",
       "      <td>1.477121</td>\n",
       "      <td>0.123093</td>\n",
       "    </tr>\n",
       "    <tr>\n",
       "      <th>240</th>\n",
       "      <td>collaps</td>\n",
       "      <td>1</td>\n",
       "      <td>0.001316</td>\n",
       "      <td>0.083333</td>\n",
       "      <td>1.477121</td>\n",
       "      <td>0.123093</td>\n",
       "    </tr>\n",
       "    <tr>\n",
       "      <th>241</th>\n",
       "      <td>doomsday</td>\n",
       "      <td>1</td>\n",
       "      <td>0.001316</td>\n",
       "      <td>0.083333</td>\n",
       "      <td>1.477121</td>\n",
       "      <td>0.123093</td>\n",
       "    </tr>\n",
       "    <tr>\n",
       "      <th>242</th>\n",
       "      <td>scenario</td>\n",
       "      <td>1</td>\n",
       "      <td>0.001316</td>\n",
       "      <td>0.083333</td>\n",
       "      <td>1.477121</td>\n",
       "      <td>0.123093</td>\n",
       "    </tr>\n",
       "    <tr>\n",
       "      <th>243</th>\n",
       "      <td>1=.6393</td>\n",
       "      <td>1</td>\n",
       "      <td>0.001316</td>\n",
       "      <td>0.083333</td>\n",
       "      <td>1.176091</td>\n",
       "      <td>0.098008</td>\n",
       "    </tr>\n",
       "  </tbody>\n",
       "</table>\n",
       "<p>244 rows × 6 columns</p>\n",
       "</div>"
      ],
      "text/plain": [
       "           word  frequency        tf  tf_normalized       idf    tf*idf\n",
       "0       compani         12  0.015789       1.000000  1.000000  1.000000\n",
       "1    eurotunnel         10  0.013158       0.833333  1.000000  0.833333\n",
       "2            ``          9  0.011842       0.750000  1.000000  0.750000\n",
       "3            ''          9  0.011842       0.750000  1.000000  0.750000\n",
       "4          said          9  0.011842       0.750000  1.000000  0.750000\n",
       "..          ...        ...       ...            ...       ...       ...\n",
       "239      reject          1  0.001316       0.083333  1.477121  0.123093\n",
       "240     collaps          1  0.001316       0.083333  1.477121  0.123093\n",
       "241    doomsday          1  0.001316       0.083333  1.477121  0.123093\n",
       "242    scenario          1  0.001316       0.083333  1.477121  0.123093\n",
       "243     1=.6393          1  0.001316       0.083333  1.176091  0.098008\n",
       "\n",
       "[244 rows x 6 columns]"
      ]
     },
     "execution_count": 15,
     "metadata": {},
     "output_type": "execute_result"
    }
   ],
   "source": [
    "doc_1_pd"
   ]
  },
  {
   "cell_type": "markdown",
   "id": "47bc1807",
   "metadata": {},
   "source": [
    "**Compute tf, idf, tf*idf: 100593newsML.txt**"
   ]
  },
  {
   "cell_type": "code",
   "execution_count": 13,
   "id": "40a1ec72",
   "metadata": {},
   "outputs": [],
   "source": [
    "compute_tf_idf(doc_2_len, doc_2_pd, doc_1_pd, doc_3_pd)"
   ]
  },
  {
   "cell_type": "code",
   "execution_count": 16,
   "id": "eaea04b0",
   "metadata": {},
   "outputs": [
    {
     "data": {
      "text/html": [
       "<div>\n",
       "<style scoped>\n",
       "    .dataframe tbody tr th:only-of-type {\n",
       "        vertical-align: middle;\n",
       "    }\n",
       "\n",
       "    .dataframe tbody tr th {\n",
       "        vertical-align: top;\n",
       "    }\n",
       "\n",
       "    .dataframe thead th {\n",
       "        text-align: right;\n",
       "    }\n",
       "</style>\n",
       "<table border=\"1\" class=\"dataframe\">\n",
       "  <thead>\n",
       "    <tr style=\"text-align: right;\">\n",
       "      <th></th>\n",
       "      <th>word</th>\n",
       "      <th>frequency</th>\n",
       "      <th>tf</th>\n",
       "      <th>tf_normalized</th>\n",
       "      <th>idf</th>\n",
       "      <th>tf*idf</th>\n",
       "    </tr>\n",
       "  </thead>\n",
       "  <tbody>\n",
       "    <tr>\n",
       "      <th>0</th>\n",
       "      <td>eurotunnel</td>\n",
       "      <td>11</td>\n",
       "      <td>0.022267</td>\n",
       "      <td>1.000000</td>\n",
       "      <td>1.0</td>\n",
       "      <td>1.000000</td>\n",
       "    </tr>\n",
       "    <tr>\n",
       "      <th>1</th>\n",
       "      <td>billion</td>\n",
       "      <td>10</td>\n",
       "      <td>0.020243</td>\n",
       "      <td>0.909091</td>\n",
       "      <td>1.0</td>\n",
       "      <td>0.909091</td>\n",
       "    </tr>\n",
       "    <tr>\n",
       "      <th>2</th>\n",
       "      <td>compani</td>\n",
       "      <td>9</td>\n",
       "      <td>0.018219</td>\n",
       "      <td>0.818182</td>\n",
       "      <td>1.0</td>\n",
       "      <td>0.818182</td>\n",
       "    </tr>\n",
       "    <tr>\n",
       "      <th>3</th>\n",
       "      <td>said</td>\n",
       "      <td>8</td>\n",
       "      <td>0.016194</td>\n",
       "      <td>0.727273</td>\n",
       "      <td>1.0</td>\n",
       "      <td>0.727273</td>\n",
       "    </tr>\n",
       "    <tr>\n",
       "      <th>4</th>\n",
       "      <td>the</td>\n",
       "      <td>6</td>\n",
       "      <td>0.012146</td>\n",
       "      <td>0.545455</td>\n",
       "      <td>1.0</td>\n",
       "      <td>0.545455</td>\n",
       "    </tr>\n",
       "    <tr>\n",
       "      <th>...</th>\n",
       "      <td>...</td>\n",
       "      <td>...</td>\n",
       "      <td>...</td>\n",
       "      <td>...</td>\n",
       "      <td>...</td>\n",
       "      <td>...</td>\n",
       "    </tr>\n",
       "    <tr>\n",
       "      <th>173</th>\n",
       "      <td>113.5</td>\n",
       "      <td>1</td>\n",
       "      <td>0.002024</td>\n",
       "      <td>0.090909</td>\n",
       "      <td>1.0</td>\n",
       "      <td>0.090909</td>\n",
       "    </tr>\n",
       "    <tr>\n",
       "      <th>174</th>\n",
       "      <td>ahead</td>\n",
       "      <td>1</td>\n",
       "      <td>0.002024</td>\n",
       "      <td>0.090909</td>\n",
       "      <td>1.0</td>\n",
       "      <td>0.090909</td>\n",
       "    </tr>\n",
       "    <tr>\n",
       "      <th>175</th>\n",
       "      <td>resum</td>\n",
       "      <td>1</td>\n",
       "      <td>0.002024</td>\n",
       "      <td>0.090909</td>\n",
       "      <td>1.0</td>\n",
       "      <td>0.090909</td>\n",
       "    </tr>\n",
       "    <tr>\n",
       "      <th>176</th>\n",
       "      <td>trade</td>\n",
       "      <td>1</td>\n",
       "      <td>0.002024</td>\n",
       "      <td>0.090909</td>\n",
       "      <td>1.0</td>\n",
       "      <td>0.090909</td>\n",
       "    </tr>\n",
       "    <tr>\n",
       "      <th>177</th>\n",
       "      <td>tuesday</td>\n",
       "      <td>1</td>\n",
       "      <td>0.002024</td>\n",
       "      <td>0.090909</td>\n",
       "      <td>1.0</td>\n",
       "      <td>0.090909</td>\n",
       "    </tr>\n",
       "  </tbody>\n",
       "</table>\n",
       "<p>178 rows × 6 columns</p>\n",
       "</div>"
      ],
      "text/plain": [
       "           word  frequency        tf  tf_normalized  idf    tf*idf\n",
       "0    eurotunnel         11  0.022267       1.000000  1.0  1.000000\n",
       "1       billion         10  0.020243       0.909091  1.0  0.909091\n",
       "2       compani          9  0.018219       0.818182  1.0  0.818182\n",
       "3          said          8  0.016194       0.727273  1.0  0.727273\n",
       "4           the          6  0.012146       0.545455  1.0  0.545455\n",
       "..          ...        ...       ...            ...  ...       ...\n",
       "173       113.5          1  0.002024       0.090909  1.0  0.090909\n",
       "174       ahead          1  0.002024       0.090909  1.0  0.090909\n",
       "175       resum          1  0.002024       0.090909  1.0  0.090909\n",
       "176       trade          1  0.002024       0.090909  1.0  0.090909\n",
       "177     tuesday          1  0.002024       0.090909  1.0  0.090909\n",
       "\n",
       "[178 rows x 6 columns]"
      ]
     },
     "execution_count": 16,
     "metadata": {},
     "output_type": "execute_result"
    }
   ],
   "source": [
    "doc_2_pd"
   ]
  },
  {
   "cell_type": "markdown",
   "id": "53d09461",
   "metadata": {},
   "source": [
    "**Compute tf, idf, tf*idf: 100618newsML.txt**"
   ]
  },
  {
   "cell_type": "code",
   "execution_count": 14,
   "id": "280fc94d",
   "metadata": {},
   "outputs": [],
   "source": [
    "compute_tf_idf(doc_3_len, doc_3_pd, doc_1_pd, doc_2_pd)"
   ]
  },
  {
   "cell_type": "code",
   "execution_count": 17,
   "id": "6f3b952c",
   "metadata": {},
   "outputs": [
    {
     "data": {
      "text/html": [
       "<div>\n",
       "<style scoped>\n",
       "    .dataframe tbody tr th:only-of-type {\n",
       "        vertical-align: middle;\n",
       "    }\n",
       "\n",
       "    .dataframe tbody tr th {\n",
       "        vertical-align: top;\n",
       "    }\n",
       "\n",
       "    .dataframe thead th {\n",
       "        text-align: right;\n",
       "    }\n",
       "</style>\n",
       "<table border=\"1\" class=\"dataframe\">\n",
       "  <thead>\n",
       "    <tr style=\"text-align: right;\">\n",
       "      <th></th>\n",
       "      <th>word</th>\n",
       "      <th>frequency</th>\n",
       "      <th>tf</th>\n",
       "      <th>tf_normalized</th>\n",
       "      <th>idf</th>\n",
       "      <th>tf*idf</th>\n",
       "    </tr>\n",
       "  </thead>\n",
       "  <tbody>\n",
       "    <tr>\n",
       "      <th>0</th>\n",
       "      <td>eurotunnel</td>\n",
       "      <td>11</td>\n",
       "      <td>0.022680</td>\n",
       "      <td>1.000000</td>\n",
       "      <td>1.000000</td>\n",
       "      <td>1.000000</td>\n",
       "    </tr>\n",
       "    <tr>\n",
       "      <th>1</th>\n",
       "      <td>compani</td>\n",
       "      <td>9</td>\n",
       "      <td>0.018557</td>\n",
       "      <td>0.818182</td>\n",
       "      <td>1.000000</td>\n",
       "      <td>0.818182</td>\n",
       "    </tr>\n",
       "    <tr>\n",
       "      <th>2</th>\n",
       "      <td>said</td>\n",
       "      <td>8</td>\n",
       "      <td>0.016495</td>\n",
       "      <td>0.727273</td>\n",
       "      <td>1.000000</td>\n",
       "      <td>0.727273</td>\n",
       "    </tr>\n",
       "    <tr>\n",
       "      <th>3</th>\n",
       "      <td>billion</td>\n",
       "      <td>6</td>\n",
       "      <td>0.012371</td>\n",
       "      <td>0.545455</td>\n",
       "      <td>1.000000</td>\n",
       "      <td>0.545455</td>\n",
       "    </tr>\n",
       "    <tr>\n",
       "      <th>4</th>\n",
       "      <td>the</td>\n",
       "      <td>6</td>\n",
       "      <td>0.012371</td>\n",
       "      <td>0.545455</td>\n",
       "      <td>1.000000</td>\n",
       "      <td>0.545455</td>\n",
       "    </tr>\n",
       "    <tr>\n",
       "      <th>...</th>\n",
       "      <td>...</td>\n",
       "      <td>...</td>\n",
       "      <td>...</td>\n",
       "      <td>...</td>\n",
       "      <td>...</td>\n",
       "      <td>...</td>\n",
       "    </tr>\n",
       "    <tr>\n",
       "      <th>175</th>\n",
       "      <td>ahead</td>\n",
       "      <td>1</td>\n",
       "      <td>0.002062</td>\n",
       "      <td>0.090909</td>\n",
       "      <td>1.000000</td>\n",
       "      <td>0.090909</td>\n",
       "    </tr>\n",
       "    <tr>\n",
       "      <th>176</th>\n",
       "      <td>resum</td>\n",
       "      <td>1</td>\n",
       "      <td>0.002062</td>\n",
       "      <td>0.090909</td>\n",
       "      <td>1.000000</td>\n",
       "      <td>0.090909</td>\n",
       "    </tr>\n",
       "    <tr>\n",
       "      <th>177</th>\n",
       "      <td>trade</td>\n",
       "      <td>1</td>\n",
       "      <td>0.002062</td>\n",
       "      <td>0.090909</td>\n",
       "      <td>1.000000</td>\n",
       "      <td>0.090909</td>\n",
       "    </tr>\n",
       "    <tr>\n",
       "      <th>178</th>\n",
       "      <td>tuesday</td>\n",
       "      <td>1</td>\n",
       "      <td>0.002062</td>\n",
       "      <td>0.090909</td>\n",
       "      <td>1.000000</td>\n",
       "      <td>0.090909</td>\n",
       "    </tr>\n",
       "    <tr>\n",
       "      <th>179</th>\n",
       "      <td>1=.6393</td>\n",
       "      <td>1</td>\n",
       "      <td>0.002062</td>\n",
       "      <td>0.090909</td>\n",
       "      <td>1.176091</td>\n",
       "      <td>0.106917</td>\n",
       "    </tr>\n",
       "  </tbody>\n",
       "</table>\n",
       "<p>180 rows × 6 columns</p>\n",
       "</div>"
      ],
      "text/plain": [
       "           word  frequency        tf  tf_normalized       idf    tf*idf\n",
       "0    eurotunnel         11  0.022680       1.000000  1.000000  1.000000\n",
       "1       compani          9  0.018557       0.818182  1.000000  0.818182\n",
       "2          said          8  0.016495       0.727273  1.000000  0.727273\n",
       "3       billion          6  0.012371       0.545455  1.000000  0.545455\n",
       "4           the          6  0.012371       0.545455  1.000000  0.545455\n",
       "..          ...        ...       ...            ...       ...       ...\n",
       "175       ahead          1  0.002062       0.090909  1.000000  0.090909\n",
       "176       resum          1  0.002062       0.090909  1.000000  0.090909\n",
       "177       trade          1  0.002062       0.090909  1.000000  0.090909\n",
       "178     tuesday          1  0.002062       0.090909  1.000000  0.090909\n",
       "179     1=.6393          1  0.002062       0.090909  1.176091  0.106917\n",
       "\n",
       "[180 rows x 6 columns]"
      ]
     },
     "execution_count": 17,
     "metadata": {},
     "output_type": "execute_result"
    }
   ],
   "source": [
    "doc_3_pd"
   ]
  },
  {
   "cell_type": "markdown",
   "id": "85f67a6d",
   "metadata": {},
   "source": [
    "**Cosine calculations**\n",
    "<br/>\n",
    "cosθ = query . doc / ( |query| * |doc| )\n",
    "<br/>\n",
    "where \n",
    "- query.doc is dot product\n",
    "- |query| is magnitude of query\n",
    "- |doc| is magnitude of doc"
   ]
  },
  {
   "cell_type": "code",
   "execution_count": 81,
   "id": "cc5d8d8e",
   "metadata": {},
   "outputs": [],
   "source": [
    "def cos_theta(query, doc):\n",
    "    query_dot_doc = np.dot(query, doc)\n",
    "    \n",
    "    query_mag = np.linalg.norm(query)\n",
    "    doc_mag = np.linalg.norm(doc)\n",
    "    \n",
    "    cos = query_dot_doc / ( query_mag * doc_mag )\n",
    "    \n",
    "    return cos"
   ]
  },
  {
   "cell_type": "code",
   "execution_count": 111,
   "id": "480a7861",
   "metadata": {},
   "outputs": [],
   "source": [
    "def cosine_similarity(doc1, doc2):\n",
    "    merge_doc = doc2.merge(doc1, on=['word'])\n",
    "\n",
    "    query = merge_doc[\"tf*idf_x\"].values\n",
    "    doc = merge_doc[\"tf*idf_y\"].values\n",
    "\n",
    "    cos = cos_theta(query, doc)\n",
    "    return math.degrees(math.acos(cos))"
   ]
  },
  {
   "cell_type": "code",
   "execution_count": 118,
   "id": "7826cdd6",
   "metadata": {},
   "outputs": [
    {
     "data": {
      "text/plain": [
       "0.0"
      ]
     },
     "execution_count": 118,
     "metadata": {},
     "output_type": "execute_result"
    }
   ],
   "source": [
    "cos1 = cosine_similarity(doc_1_pd, doc_1_pd)\n",
    "cos1"
   ]
  },
  {
   "cell_type": "code",
   "execution_count": 128,
   "id": "b16a7318",
   "metadata": {},
   "outputs": [
    {
     "data": {
      "text/plain": [
       "27.789922473243376"
      ]
     },
     "execution_count": 128,
     "metadata": {},
     "output_type": "execute_result"
    }
   ],
   "source": [
    "cos2 = cosine_similarity(doc_1_pd, doc_2_pd)\n",
    "cos2"
   ]
  },
  {
   "cell_type": "code",
   "execution_count": 120,
   "id": "c5e9a193",
   "metadata": {},
   "outputs": [
    {
     "data": {
      "text/plain": [
       "25.117822349076988"
      ]
     },
     "execution_count": 120,
     "metadata": {},
     "output_type": "execute_result"
    }
   ],
   "source": [
    "cos3 = cosine_similarity(doc_1_pd, doc_3_pd)\n",
    "cos3"
   ]
  },
  {
   "cell_type": "code",
   "execution_count": 121,
   "id": "7bc40a55",
   "metadata": {},
   "outputs": [],
   "source": [
    "import matplotlib.pyplot as plt"
   ]
  },
  {
   "cell_type": "code",
   "execution_count": 134,
   "id": "2c3e1a4f",
   "metadata": {},
   "outputs": [
    {
     "data": {
      "text/plain": [
       "2.6350771519246683"
      ]
     },
     "execution_count": 134,
     "metadata": {},
     "output_type": "execute_result"
    }
   ],
   "source": [
    "5 * math.tan(math.radians(cos2))"
   ]
  },
  {
   "cell_type": "code",
   "execution_count": 144,
   "id": "011ce01a",
   "metadata": {},
   "outputs": [
    {
     "data": {
      "image/png": "[encoded data removed]",
      "text/plain": [
       "<Figure size 432x288 with 1 Axes>"
      ]
     },
     "metadata": {
      "needs_background": "light"
     },
     "output_type": "display_data"
    }
   ],
   "source": [
    "x = [0.2, 0.2 + 5]\n",
    "\n",
    "y = [0.2, 0.2 + 5 * math.tan(math.radians(cos1))]\n",
    "plt.plot(x, y, label='Document 1')\n",
    "\n",
    "y = [0.2, 0.2 + 5 * math.tan(math.radians(cos2))]\n",
    "plt.plot(x, y, label='Document 2')\n",
    "\n",
    "y = [0.2, 0.2 + 5 * math.tan(math.radians(cos3))]\n",
    "plt.plot(x, y, label='Document 3')\n",
    "\n",
    "plt.legend(loc=\"upper left\")\n",
    "plt.show()"
   ]
  }
 ],
 "metadata": {
  "kernelspec": {
   "display_name": "Python 3",
   "language": "python",
   "name": "python3"
  },
  "language_info": {
   "codemirror_mode": {
    "name": "ipython",
    "version": 3
   },
   "file_extension": ".py",
   "mimetype": "text/x-python",
   "name": "python",
   "nbconvert_exporter": "python",
   "pygments_lexer": "ipython3",
   "version": "3.8.6"
  }
 },
 "nbformat": 4,
 "nbformat_minor": 5
}
